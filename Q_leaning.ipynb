{
  "nbformat": 4,
  "nbformat_minor": 0,
  "metadata": {
    "colab": {
      "name": "Q-leaning.ipynb",
      "provenance": []
    },
    "kernelspec": {
      "name": "python3",
      "display_name": "Python 3"
    }
  },
  "cells": [
    {
      "cell_type": "markdown",
      "metadata": {
        "id": "bmqqRe8W0bXv"
      },
      "source": [
        "![resize-1610309970639429524model.jpg](data:image/jpeg;base64,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)"
      ]
    },
    {
      "cell_type": "code",
      "metadata": {
        "id": "XyKqvP7Vb4Qi"
      },
      "source": [
        "import numpy as np"
      ],
      "execution_count": 129,
      "outputs": []
    },
    {
      "cell_type": "markdown",
      "metadata": {
        "id": "tKUtjaXr0ye7"
      },
      "source": [
        "Define R matrix"
      ]
    },
    {
      "cell_type": "code",
      "metadata": {
        "id": "OGd1W2A0mIrw"
      },
      "source": [
        "R=np.matrix([\r\n",
        "   [-1. ,0., -1., -1., -1., -1., 0., -1., -1., -1., -1., -1., -1.,-1., -1.],\r\n",
        "   [0., -1., 0., -1., 0., -1., -1., -1., -1., -1., -1., -1., -1.,-1., -1.],\r\n",
        "   [-1., 0., -1., -1., -1., 0., -1., -1., -1., -1., -1., -1., -1.,-1., -1.],\r\n",
        "   [-1., -1., -1., -1., -1., 0., -1., -1., -1., -1., -1., -1., 0.,-1., -1.],\r\n",
        "   [-1., 0., -1., -1., -1., -1., -1., -1., -1., -1., -1., -1., -1.,-1., -1.],\r\n",
        "   [-1., -1., 0., 0., -1., -1., 0., -1., 0., -1., -1., -1., -1.,-1., -1.],\r\n",
        "   [0., -1., -1., -1., -1., 0., -1., 0., -1., -1., -1., -1., -1.,-1., -1.],\r\n",
        "   [-1., -1., -1., -1., -1., -1., 0., -1., 0., -1., -1., 0., -1.,-1., -1.],\r\n",
        "   [-1., -1., -1., -1., -1., 0., -1., 0., -1., 0., -1., -1., -1.,-1., -1.],\r\n",
        "   [-1., -1., -1., -1., -1., -1., -1., -1., 0., -1., 0., -1., 0.,-1., -1.],\r\n",
        "   [-1., -1., -1., -1., -1., -1., -1., -1., -1., 0., -1., -1., -1.,-1., -1.],\r\n",
        "   [-1., -1., -1., -1., -1., -1., -1., 0., -1., -1., -1., -1., -1.,-1., 100.],\r\n",
        "   [-1., -1., -1., 0., -1., -1., -1., -1., -1., 0., -1., -1., -1.,0., -1.],\r\n",
        "   [-1., -1., -1., -1., -1., -1., -1., -1., -1., -1., -1., -1., 0.,-1., 100.],\r\n",
        "   [-1., -1., -1., -1., -1., -1., -1., -1., -1., -1., -1., 0., -1.,0., -1.]])"
      ],
      "execution_count": 131,
      "outputs": []
    },
    {
      "cell_type": "code",
      "metadata": {
        "id": "VD1c0h3BdIzX"
      },
      "source": [
        "Q=np.matrix(np.zeros([15,15]))\r\n",
        "gamma=0.8\r\n",
        "initial_state=0"
      ],
      "execution_count": 132,
      "outputs": []
    },
    {
      "cell_type": "markdown",
      "metadata": {
        "id": "MVtsDK5e1cOs"
      },
      "source": [
        "return all avilable action in the state given as an argument\r\n",
        "==>search in the R[state,]  array and return  number.argument that  >=0\r\n",
        "\r\n",
        "---\r\n",
        "\r\n"
      ]
    },
    {
      "cell_type": "code",
      "metadata": {
        "id": "8BmNjGOBeAC6"
      },
      "source": [
        "def available_actions(state):\r\n",
        "  current_state_row=R[state,]\r\n",
        "  av_act=np.where(current_state_row >=0)[1]\r\n",
        "  return av_act\r\n"
      ],
      "execution_count": 135,
      "outputs": []
    },
    {
      "cell_type": "markdown",
      "metadata": {
        "id": "NdGg0BG_BErR"
      },
      "source": [
        "Get available action in the current state"
      ]
    },
    {
      "cell_type": "code",
      "metadata": {
        "id": "8qRvlZnfDGj1"
      },
      "source": [
        "available_act = available_actions(initial_state)"
      ],
      "execution_count": 136,
      "outputs": []
    },
    {
      "cell_type": "markdown",
      "metadata": {
        "id": "80cg2aw0C60m"
      },
      "source": [
        "return next action from available action such that random"
      ]
    },
    {
      "cell_type": "code",
      "metadata": {
        "id": "W95HuUomfK8R"
      },
      "source": [
        "def sample_next_action(available_actions_range):\r\n",
        "  next_action=int(np.random.choice(available_actions_range,1))\r\n",
        "  return next_action"
      ],
      "execution_count": 137,
      "outputs": []
    },
    {
      "cell_type": "markdown",
      "metadata": {
        "id": "sOZrs1EQEGwZ"
      },
      "source": [
        "Denote next action"
      ]
    },
    {
      "cell_type": "code",
      "metadata": {
        "id": "h_VYuBewflVn"
      },
      "source": [
        "action=sample_next_action(available_act)"
      ],
      "execution_count": 138,
      "outputs": []
    },
    {
      "cell_type": "markdown",
      "metadata": {
        "id": "A2sP-vWBKmnk"
      },
      "source": [
        "Update Q matrix acording to path and Q"
      ]
    },
    {
      "cell_type": "code",
      "metadata": {
        "id": "AdMFCmMtik2Z"
      },
      "source": [
        "def update(current_state,action,gamma):\r\n",
        "  max_index=np.where(Q[action,]==np.max(Q[action,]))[1]\r\n",
        "#find the maximum Q action\r\n",
        "  if max_index.shape[0] > 1:\r\n",
        "    max_index=int(np.random.choice(max_index,size=1))\r\n",
        "  else:\r\n",
        "    max_index = int(max_index)\r\n",
        "  max_value=Q[action , max_index]\r\n",
        "  #Q_learning formule\r\n",
        "  Q[current_state,action]=R[current_state, action]+ gamma * max_value"
      ],
      "execution_count": 139,
      "outputs": []
    },
    {
      "cell_type": "markdown",
      "metadata": {
        "id": "few09t95MsVc"
      },
      "source": [
        "Train over 10000 iterations"
      ]
    },
    {
      "cell_type": "code",
      "metadata": {
        "id": "FROuvXJQkRoI"
      },
      "source": [
        "for i in range(10000):\r\n",
        "  current_state =np.random.randint(0,int(Q.shape[0]))\r\n",
        "  available_act=available_actions(current_state)\r\n",
        "  action=sample_next_action(available_act)\r\n",
        "  update(current_state,action,gamma)"
      ],
      "execution_count": 140,
      "outputs": []
    },
    {
      "cell_type": "code",
      "metadata": {
        "id": "P5e6Yo4-k_mD"
      },
      "source": [
        "#print(\"Trained Q matrix:\")\r\n",
        "#print(Q/np.max(Q)*100)"
      ],
      "execution_count": 141,
      "outputs": []
    },
    {
      "cell_type": "markdown",
      "metadata": {
        "id": "ZmBAbiymNMyl"
      },
      "source": [
        "goal state 5 \r\n",
        "\r\n",
        "test the path"
      ]
    },
    {
      "cell_type": "code",
      "metadata": {
        "colab": {
          "base_uri": "https://localhost:8080/"
        },
        "id": "ZA5yA1bxlw6y",
        "outputId": "9a25a416-3b47-4206-f1f9-f39221d909d6"
      },
      "source": [
        "current_state =5\r\n",
        "steps=[current_state]\r\n",
        "while current_state !=14:\r\n",
        "  next_step_index=np.where(Q[current_state,]== np.max(Q[current_state,]))[1]\r\n",
        "\r\n",
        "  if next_step_index.shape[0] > 1:\r\n",
        "     next_step_index=int(np.random.choice(next_step_index,size=1))\r\n",
        "  else:\r\n",
        "    next_step_index=int(next_step_index)\r\n",
        "  steps.append(next_step_index)\r\n",
        "  current_state=next_step_index\r\n",
        "print(\"seleted path\",steps)\r\n"
      ],
      "execution_count": 163,
      "outputs": [
        {
          "output_type": "stream",
          "text": [
            "seleted path [5, 6, 7, 11, 14]\n"
          ],
          "name": "stdout"
        }
      ]
    }
  ]
}